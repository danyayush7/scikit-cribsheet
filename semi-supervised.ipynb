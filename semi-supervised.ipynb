{
 "cells": [
  {
   "cell_type": "markdown",
   "metadata": {},
   "source": [
    "### INTRO\n",
    "\n",
    "* Use case: #labeled points << #unlabeled points\n",
    "* Both LabelPropagation & LabelSpreading work by building a similarity graph.\n",
    "\n",
    "[API](http://scikit-learn.org/stable/modules/classes.html#module-sklearn.semi_supervised)"
   ]
  },
  {
   "cell_type": "markdown",
   "metadata": {},
   "source": [
    "### LABEL PROPAGATION\n",
    "\n",
    "* Performs \"hard clamp\" of input labels (alpha=1), can be relaxed\n",
    "* Uses similarity matrix as-is\n",
    "\n",
    "[API](http://scikit-learn.org/stable/modules/generated/sklearn.semi_supervised.LabelPropagation.html#sklearn.semi_supervised.LabelPropagation) |\n",
    "[demo](plot_label_propagation_structure.ipynb)\n",
    "\n"
   ]
  },
  {
   "cell_type": "code",
   "execution_count": 2,
   "metadata": {
    "collapsed": false
   },
   "outputs": [
    {
     "data": {
      "text/plain": [
       "LabelPropagation(alpha=1, gamma=20, kernel='rbf', max_iter=30, n_jobs=1,\n",
       "         n_neighbors=7, tol=0.001)"
      ]
     },
     "execution_count": 2,
     "metadata": {},
     "output_type": "execute_result"
    }
   ],
   "source": [
    "import numpy as np\n",
    "from sklearn import datasets\n",
    "from sklearn.semi_supervised import LabelPropagation\n",
    "label_prop_model = LabelPropagation()\n",
    "iris = datasets.load_iris()\n",
    "random_unlabeled_points = np.where(np.random.randint(0, 2,\n",
    "   size=len(iris.target)))\n",
    "labels = np.copy(iris.target)\n",
    "labels[random_unlabeled_points] = -1\n",
    "label_prop_model.fit(iris.data, labels)"
   ]
  },
  {
   "cell_type": "markdown",
   "metadata": {},
   "source": [
    "### LABEL SPREADING\n",
    "\n",
    "* Imposes a loss function with regularization properties (helps with noise immunity)\n",
    "* Normalizes each weights by finding normalized graph Laplacian matrix\n",
    "* Two built-in kernels ('gamma'=RBF, 'n_neighbors'=KNN)\n",
    "   * RBF kernel = fully connected graph, dense matrix\n",
    "   * KNN kernel = sparse matrix (much better runtimes)\n",
    "\n",
    "[API](http://scikit-learn.org/stable/modules/generated/sklearn.semi_supervised.LabelSpreading.html#sklearn.semi_supervised.LabelSpreading) |\n",
    "[demo](plot_label_propagation_structure.ipynb)"
   ]
  },
  {
   "cell_type": "code",
   "execution_count": 4,
   "metadata": {
    "collapsed": false
   },
   "outputs": [
    {
     "data": {
      "text/plain": [
       "LabelSpreading(alpha=0.2, gamma=20, kernel='rbf', max_iter=30, n_jobs=1,\n",
       "        n_neighbors=7, tol=0.001)"
      ]
     },
     "execution_count": 4,
     "metadata": {},
     "output_type": "execute_result"
    }
   ],
   "source": [
    "import numpy as np\n",
    "from sklearn import datasets\n",
    "from sklearn.semi_supervised import LabelSpreading\n",
    "label_prop_model = LabelSpreading()\n",
    "iris = datasets.load_iris()\n",
    "random_unlabeled_points = np.where(np.random.randint(0, 2,\n",
    "   size=len(iris.target)))\n",
    "labels = np.copy(iris.target)\n",
    "labels[random_unlabeled_points] = -1\n",
    "label_prop_model.fit(iris.data, labels)"
   ]
  }
 ],
 "metadata": {
  "kernelspec": {
   "display_name": "Python [Root]",
   "language": "python",
   "name": "Python [Root]"
  },
  "language_info": {
   "codemirror_mode": {
    "name": "ipython",
    "version": 3
   },
   "file_extension": ".py",
   "mimetype": "text/x-python",
   "name": "python",
   "nbconvert_exporter": "python",
   "pygments_lexer": "ipython3",
   "version": "3.5.2"
  }
 },
 "nbformat": 4,
 "nbformat_minor": 0
}
