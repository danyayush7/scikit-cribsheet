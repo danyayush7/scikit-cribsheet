{
 "cells": [
  {
   "cell_type": "markdown",
   "metadata": {},
   "source": [
    "### INTRO\n",
    "\n",
    "* Use cases: classification, regression, outlier detection\n",
    "* Good in highD situations\n",
    "* Uses subset of training data in decision function = memory efficient\n",
    "* Different kernel functions available\n",
    "* If #features>>#samples, poor performance likely\n",
    "* Does not directly provide probabilities - these come from 5-fold CV\n",
    "* Optimal performance: use numpy.ndarray or scipy.sparse.csr_matrix (dtype=float64)\n",
    "* NuSVC: param `v` controls #support_vectors, #training_errors\n",
    "* Implemented with [libsvm](http://www.csie.ntu.edu.tw/~cjlin/libsvm/), [liblinear](http://www.csie.ntu.edu.tw/~cjlin/liblinear/) (wrapped usinc C & Cython)"
   ]
  },
  {
   "cell_type": "markdown",
   "metadata": {},
   "source": [
    "### CLASSIFICATION\n",
    "\n",
    "[SVC](http://scikit-learn.org/stable/modules/generated/sklearn.svm.SVC.html#sklearn.svm.SVC) |\n",
    "[NuSVC](http://scikit-learn.org/stable/modules/generated/sklearn.svm.NuSVC.html#sklearn.svm.NuSVC) |\n",
    "[LinearSVC](http://scikit-learn.org/stable/modules/generated/sklearn.svm.LinearSVC.html#sklearn.svm.LinearSVC)\n",
    "\n",
    "* inputs = X [#samples,#features], y [#labels,#samples]\n",
    "\n",
    "[Plot diff SVM classifiers: IRIS dataset](plot_iris.ipynb) | \n",
    "[SVM: max margin separating hyperplanes](plot_separating_hyperplane.ipynb) | \n",
    "[SVM: unbalanced classes](plot_separating_hyperplane_unbalanced.ipynb) | \n",
    "[SVM: ANOVA (uninvariate feature select)](plot_svm_anova.ipynb) | \n",
    "[SVM: Binary classification, RBF kernel = predict XOR of inputs](plot_svm_nonlinear.ipynb)"
   ]
  },
  {
   "cell_type": "code",
   "execution_count": 5,
   "metadata": {
    "collapsed": false
   },
   "outputs": [
    {
     "name": "stdout",
     "output_type": "stream",
     "text": [
      "support vectors:  [[ 0.  0.]\n",
      " [ 1.  1.]]\n",
      "support vector indices:  [0 1]\n",
      "#support vectors, each class:  [1 1]\n"
     ]
    }
   ],
   "source": [
    "# CLASSIFICATION (SVC)\n",
    "\n",
    "from sklearn import svm\n",
    "X = [[0, 0], [1, 1]]\n",
    "y = [0, 1]\n",
    "clf = svm.SVC()\n",
    "clf.fit(X, y)  \n",
    "clf.predict([[2., 2.]])\n",
    "\n",
    "print(\"support vectors: \",clf.support_vectors_)\n",
    "print(\"support vector indices: \",clf.support_ )\n",
    "print(\"#support vectors, each class: \",clf.n_support_ )"
   ]
  },
  {
   "cell_type": "code",
   "execution_count": 6,
   "metadata": {
    "collapsed": false
   },
   "outputs": [
    {
     "data": {
      "text/plain": [
       "4"
      ]
     },
     "execution_count": 6,
     "metadata": {},
     "output_type": "execute_result"
    }
   ],
   "source": [
    "# CLASSIFICATION (MULTICLASS = SVC, decision_function_shape='ovo')\n",
    "\n",
    "X = [[0], [1], [2], [3]]\n",
    "Y = [0, 1, 2, 3]\n",
    "clf = svm.SVC(decision_function_shape='ovo')\n",
    "clf.fit(X, Y) \n",
    "\n",
    "dec = clf.decision_function([[1]])\n",
    "dec.shape[1] # 4 classes: 4*3/2 = 6\n",
    "\n",
    "clf.decision_function_shape = \"ovr\"\n",
    "dec = clf.decision_function([[1]])\n",
    "dec.shape[1] # 4 classes"
   ]
  },
  {
   "cell_type": "code",
   "execution_count": 7,
   "metadata": {
    "collapsed": false
   },
   "outputs": [
    {
     "data": {
      "text/plain": [
       "4"
      ]
     },
     "execution_count": 7,
     "metadata": {},
     "output_type": "execute_result"
    }
   ],
   "source": [
    "# CLASSIFICATION (MULTICLASS = LinearSVC, decision function = '1vr')\n",
    "\n",
    "X = [[0], [1], [2], [3]]\n",
    "Y = [0, 1, 2, 3]\n",
    "lin_clf = svm.LinearSVC()\n",
    "lin_clf.fit(X, Y) \n",
    "dec = lin_clf.decision_function([[1]])\n",
    "dec.shape[1]"
   ]
  },
  {
   "cell_type": "markdown",
   "metadata": {},
   "source": [
    "### UNBALANCED PROBLEMS\n",
    "\n",
    "* SVC uses `class_weight` (a dictionary of {label: value})\n",
    "\n",
    "[demo](plot_separating_hyperplane_unbalanced.ipynb)"
   ]
  },
  {
   "cell_type": "markdown",
   "metadata": {},
   "source": [
    "### REGRESSION (SVR)\n",
    "\n",
    "[SVR](http://scikit-learn.org/stable/modules/generated/sklearn.svm.SVR.html#sklearn.svm.SVR) |\n",
    "[NuSVR](http://scikit-learn.org/stable/modules/generated/sklearn.svm.NuSVR.html#sklearn.svm.NuSVR) |\n",
    "[LinearSVR](http://scikit-learn.org/stable/modules/generated/sklearn.svm.LinearSVR.html#sklearn.svm.LinearSVR) | \n",
    "[demo: linear vs nonlinear kernels](plot_svm_regression.ipynb)"
   ]
  },
  {
   "cell_type": "code",
   "execution_count": 8,
   "metadata": {
    "collapsed": false
   },
   "outputs": [
    {
     "data": {
      "text/plain": [
       "array([ 1.5])"
      ]
     },
     "execution_count": 8,
     "metadata": {},
     "output_type": "execute_result"
    }
   ],
   "source": [
    "from sklearn import svm\n",
    "X = [[0, 0], [2, 2]]\n",
    "y = [0.5, 2.5]\n",
    "clf = svm.SVR()\n",
    "clf.fit(X, y) \n",
    "clf.predict([[1, 1]])"
   ]
  },
  {
   "cell_type": "markdown",
   "metadata": {},
   "source": [
    "### DENSITY ESTIMATION / NOVELTY DETECTION (1-CLASS SVM)\n",
    "\n",
    "* Given a set of samples, 1cSVM detects soft set boundary.\n",
    "\n",
    "[API](http://scikit-learn.org/stable/modules/generated/sklearn.svm.OneClassSVM.html#sklearn.svm.OneClassSVM) | [1cSVM: RBF kernel](plot_oneclass.ipynb) | [1cSVM: species distribution](plot_species_distribution_modeling.ipynb)"
   ]
  },
  {
   "cell_type": "markdown",
   "metadata": {},
   "source": [
    "### KERNEL OPTIONS\n",
    "\n",
    "* linear, polynomial, rbf, sigmoid"
   ]
  },
  {
   "cell_type": "code",
   "execution_count": 9,
   "metadata": {
    "collapsed": false
   },
   "outputs": [
    {
     "data": {
      "text/plain": [
       "'rbf'"
      ]
     },
     "execution_count": 9,
     "metadata": {},
     "output_type": "execute_result"
    }
   ],
   "source": [
    "linear_svc = svm.SVC(kernel='linear')\n",
    "linear_svc.kernel\n",
    "rbf_svc = svm.SVC(kernel='rbf')\n",
    "rbf_svc.kernel"
   ]
  },
  {
   "cell_type": "markdown",
   "metadata": {},
   "source": [
    "### COMPLEXITY\n",
    "\n",
    "* QP solver, libsvm-based implementation\n",
    "* O(#features x #samples^2) to O(#features x #samples^3), dataset-dependent"
   ]
  },
  {
   "cell_type": "markdown",
   "metadata": {},
   "source": [
    "### CUSTOM KERNELS (PYTHON)\n",
    "\n",
    "[3-class SVM](plot_custom_kernel.ipynb)"
   ]
  },
  {
   "cell_type": "markdown",
   "metadata": {},
   "source": [
    "#### SVM WITH PRECOMPUTED 'GRAM' MATRIX"
   ]
  },
  {
   "cell_type": "code",
   "execution_count": 10,
   "metadata": {
    "collapsed": false
   },
   "outputs": [
    {
     "data": {
      "text/plain": [
       "array([0, 1])"
      ]
     },
     "execution_count": 10,
     "metadata": {},
     "output_type": "execute_result"
    }
   ],
   "source": [
    "import numpy as np\n",
    "from sklearn import svm\n",
    "X = np.array([[0, 0], [1, 1]])\n",
    "y = [0, 1]\n",
    "clf = svm.SVC(kernel='precomputed')\n",
    "# linear kernel computation\n",
    "gram = np.dot(X, X.T)\n",
    "clf.fit(gram, y) \n",
    "# predict on training examples\n",
    "clf.predict(gram)"
   ]
  },
  {
   "cell_type": "markdown",
   "metadata": {},
   "source": [
    "[SVM vs gamma,C params on RBF function](plot_rbf_parameters.ipynb)"
   ]
  },
  {
   "cell_type": "code",
   "execution_count": null,
   "metadata": {
    "collapsed": true
   },
   "outputs": [],
   "source": []
  }
 ],
 "metadata": {
  "kernelspec": {
   "display_name": "Python [Root]",
   "language": "python",
   "name": "Python [Root]"
  },
  "language_info": {
   "codemirror_mode": {
    "name": "ipython",
    "version": 3
   },
   "file_extension": ".py",
   "mimetype": "text/x-python",
   "name": "python",
   "nbconvert_exporter": "python",
   "pygments_lexer": "ipython3",
   "version": "3.5.2"
  }
 },
 "nbformat": 4,
 "nbformat_minor": 0
}
