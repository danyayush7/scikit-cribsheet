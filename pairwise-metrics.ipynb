{
 "cells": [
  {
   "cell_type": "markdown",
   "metadata": {},
   "source": [
    "### Intro\n",
    "\n",
    "* Utilities to find pairwise distances or sample set affinities.\n",
    "* Distances: f(a,b)<f(a,c): a,b are more similar.\n",
    "* Kernels: s(a,b)>s(a,c): a,b are more similar than a,c.\n",
    "\n",
    "[metrics.pairwise](http://scikit-learn.org/stable/modules/classes.html#module-sklearn.metrics.pairwise)"
   ]
  },
  {
   "cell_type": "markdown",
   "metadata": {},
   "source": [
    "### [Cosine Similarity](http://scikit-learn.org/stable/modules/generated/sklearn.metrics.pairwise.cosine_similarity.html#sklearn.metrics.pairwise.cosine_similarity)\n",
    "\n",
    "* L2-normalized dot product of two vectors\n",
    "* Popular choice for finding document similarities as tf-idf vectors"
   ]
  },
  {
   "cell_type": "markdown",
   "metadata": {},
   "source": [
    "### [Linear Kernel](http://scikit-learn.org/stable/modules/generated/sklearn.metrics.pairwise.linear_kernel.html#sklearn.metrics.pairwise.linear_kernel)\n",
    "\n",
    "* Special case of a polynomial kernel with degree=1, coef=0."
   ]
  },
  {
   "cell_type": "markdown",
   "metadata": {},
   "source": [
    "### [Polynomial Kernel](http://scikit-learn.org/stable/modules/generated/sklearn.metrics.pairwise.polynomial_kernel.html#sklearn.metrics.pairwise.polynomial_kernel)\n",
    "\n",
    "* Computed result = similarity between two vectors.\n",
    "* Also considers similarities across dimensions, which aids interaction modeling.\n",
    "\n"
   ]
  },
  {
   "cell_type": "markdown",
   "metadata": {},
   "source": [
    "### [Sigmoid Kernel](http://scikit-learn.org/stable/modules/generated/sklearn.metrics.pairwise.sigmoid_kernel.html#sklearn.metrics.pairwise.sigmoid_kernel)\n",
    "\n",
    "* Also known as hyperbolic tangent or Multilayer Perceptron"
   ]
  },
  {
   "cell_type": "markdown",
   "metadata": {},
   "source": [
    "### [RBF Kernel](http://scikit-learn.org/stable/modules/generated/sklearn.metrics.pairwise.rbf_kernel.html#sklearn.metrics.pairwise.rbf_kernel)"
   ]
  },
  {
   "cell_type": "markdown",
   "metadata": {},
   "source": [
    "### [Lapace Kernel](http://scikit-learn.org/stable/modules/generated/sklearn.metrics.pairwise.laplacian_kernel.html#sklearn.metrics.pairwise.laplacian_kernel)\n",
    "\n",
    "* Variant of RBF kernel"
   ]
  },
  {
   "cell_type": "markdown",
   "metadata": {},
   "source": [
    "### [Chi-Squared Kernel](http://scikit-learn.org/stable/modules/generated/sklearn.metrics.pairwise.chi2_kernel.html#sklearn.metrics.pairwise.chi2_kernel)\n",
    "\n",
    "* Very popular for training nonlinear SVMs - computer vision.\n",
    "* Also used on histograms (bags) of words."
   ]
  },
  {
   "cell_type": "code",
   "execution_count": 1,
   "metadata": {
    "collapsed": false
   },
   "outputs": [
    {
     "name": "stdout",
     "output_type": "stream",
     "text": [
      "[[ 1.          0.36787944  0.89483932  0.58364548]\n",
      " [ 0.36787944  1.          0.51341712  0.83822343]\n",
      " [ 0.89483932  0.51341712  1.          0.7768366 ]\n",
      " [ 0.58364548  0.83822343  0.7768366   1.        ]]\n"
     ]
    },
    {
     "data": {
      "text/plain": [
       "array([0, 1, 0, 1])"
      ]
     },
     "execution_count": 1,
     "metadata": {},
     "output_type": "execute_result"
    }
   ],
   "source": [
    "# kernel computed & fed to SVC\n",
    "\n",
    "from sklearn.svm import SVC\n",
    "from sklearn.metrics.pairwise import chi2_kernel\n",
    "X = [[0, 1], [1, 0], [.2, .8], [.7, .3]]\n",
    "y = [0, 1, 0, 1]\n",
    "K = chi2_kernel(X, gamma=.5)\n",
    "print(K)\n",
    "\n",
    "svm = SVC(kernel='precomputed').fit(K, y)\n",
    "svm.predict(K)"
   ]
  },
  {
   "cell_type": "code",
   "execution_count": null,
   "metadata": {
    "collapsed": true
   },
   "outputs": [],
   "source": []
  }
 ],
 "metadata": {
  "kernelspec": {
   "display_name": "Python [Root]",
   "language": "python",
   "name": "Python [Root]"
  },
  "language_info": {
   "codemirror_mode": {
    "name": "ipython",
    "version": 3
   },
   "file_extension": ".py",
   "mimetype": "text/x-python",
   "name": "python",
   "nbconvert_exporter": "python",
   "pygments_lexer": "ipython3",
   "version": "3.5.2"
  }
 },
 "nbformat": 4,
 "nbformat_minor": 0
}
