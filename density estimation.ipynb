{
 "cells": [
  {
   "cell_type": "markdown",
   "metadata": {},
   "source": [
    "### DE: Histograms\n",
    "\n",
    "* simple viz of data bin definitions, and #datapoints in each bin.\n",
    "* Viz quality highly dependent on choice of binning\n",
    "\n",
    "[demo: 1D](plot_kde_1d.ipynb)\n"
   ]
  },
  {
   "cell_type": "markdown",
   "metadata": {},
   "source": [
    "### Kernel DE\n",
    "\n",
    "* Available kernels:\n",
    "   * Gaussian\n",
    "   * Tophat\n",
    "   * Epanechnikov\n",
    "   * Exponential\n",
    "   * Linear\n",
    "   * Cosine\n",
    "\n",
    "* Can be used with any valid distance metric; [Haversine distance](https://en.wikipedia.org/wiki/Haversine_formula) = particularly useful.\n",
    "* Use case: learn non-parametric model so new samples can be efficiently drawn (ex: hand-written digits)\n",
    "\n",
    "[API](http://scikit-learn.org/stable/modules/generated/sklearn.neighbors.KernelDensity.html#sklearn.neighbors.KernelDensity) |\n",
    "[demo digits dataset](plot_digits_kde_sampling.ipynb) |\n",
    "[demo species distributions](plot_species_kde.ipynb)"
   ]
  },
  {
   "cell_type": "code",
   "execution_count": 1,
   "metadata": {
    "collapsed": false
   },
   "outputs": [
    {
     "data": {
      "text/plain": [
       "array([-0.41075698, -0.41075698, -0.41076071, -0.41075698, -0.41075698,\n",
       "       -0.41076071])"
      ]
     },
     "execution_count": 1,
     "metadata": {},
     "output_type": "execute_result"
    }
   ],
   "source": [
    "# gaussian kernel\n",
    "from sklearn.neighbors.kde import KernelDensity\n",
    "import numpy as np\n",
    "\n",
    "X = np.array([\n",
    "        [-1, -1], [-2, -1], [-3, -2], [1, 1], [2, 1], [3, 2]])\n",
    "\n",
    "kde = KernelDensity(\n",
    "    kernel='gaussian', \n",
    "    bandwidth=0.2).fit(X)\n",
    "\n",
    "kde.score_samples(X)"
   ]
  },
  {
   "cell_type": "markdown",
   "metadata": {
    "collapsed": true
   },
   "source": []
  }
 ],
 "metadata": {
  "anaconda-cloud": {},
  "kernelspec": {
   "display_name": "Python [Root]",
   "language": "python",
   "name": "Python [Root]"
  },
  "language_info": {
   "codemirror_mode": {
    "name": "ipython",
    "version": 3
   },
   "file_extension": ".py",
   "mimetype": "text/x-python",
   "name": "python",
   "nbconvert_exporter": "python",
   "pygments_lexer": "ipython3",
   "version": "3.5.2"
  }
 },
 "nbformat": 4,
 "nbformat_minor": 0
}
