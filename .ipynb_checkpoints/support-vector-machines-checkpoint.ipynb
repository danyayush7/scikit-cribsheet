{
 "cells": [
  {
   "cell_type": "markdown",
   "metadata": {},
   "source": [
    "#### CLASSIFICATION\n",
    "\n",
    "[Plot diff SVM classifiers: IRIS dataset](plot_iris.ipynb) | \n",
    "[SVM: max margin separating hyperplanes](plot_separating_hyperplane.ipynb) | \n",
    "[SVM: unbalanced classes](plot_separating_hyperplane_unbalanced.ipynb) | \n",
    "[SVM: ANOVA (uninvariate feature select)](plot_svm_anova.ipynb) | \n",
    "[SVM: Binary classification, RBF kernel = predict XOR of inputs](plot_svm_nonlinear.ipynb)"
   ]
  },
  {
   "cell_type": "code",
   "execution_count": 8,
   "metadata": {
    "collapsed": false
   },
   "outputs": [
    {
     "name": "stdout",
     "output_type": "stream",
     "text": [
      "support vectors:  [[ 0.  0.]\n",
      " [ 1.  1.]]\n",
      "support vector indices:  [0 1]\n",
      "#support vectors, each class:  [1 1]\n"
     ]
    }
   ],
   "source": [
    "# CLASSIFICATION (SVC)\n",
    "\n",
    "from sklearn import svm\n",
    "X = [[0, 0], [1, 1]]\n",
    "y = [0, 1]\n",
    "clf = svm.SVC()\n",
    "clf.fit(X, y)  \n",
    "clf.predict([[2., 2.]])\n",
    "\n",
    "print(\"support vectors: \",clf.support_vectors_)\n",
    "print(\"support vector indices: \",clf.support_ )\n",
    "print(\"#support vectors, each class: \",clf.n_support_ )"
   ]
  },
  {
   "cell_type": "code",
   "execution_count": 7,
   "metadata": {
    "collapsed": false
   },
   "outputs": [
    {
     "data": {
      "text/plain": [
       "4"
      ]
     },
     "execution_count": 7,
     "metadata": {},
     "output_type": "execute_result"
    }
   ],
   "source": [
    "# CLASSIFICATION (MULTICLASS = SVC, decision_function_shape='ovo')\n",
    "\n",
    "X = [[0], [1], [2], [3]]\n",
    "Y = [0, 1, 2, 3]\n",
    "clf = svm.SVC(decision_function_shape='ovo')\n",
    "clf.fit(X, Y) \n",
    "\n",
    "dec = clf.decision_function([[1]])\n",
    "dec.shape[1] # 4 classes: 4*3/2 = 6\n",
    "\n",
    "clf.decision_function_shape = \"ovr\"\n",
    "dec = clf.decision_function([[1]])\n",
    "dec.shape[1] # 4 classes"
   ]
  },
  {
   "cell_type": "code",
   "execution_count": 11,
   "metadata": {
    "collapsed": false
   },
   "outputs": [
    {
     "data": {
      "text/plain": [
       "4"
      ]
     },
     "execution_count": 11,
     "metadata": {},
     "output_type": "execute_result"
    }
   ],
   "source": [
    "# CLASSIFICATION (MULTICLASS = LinearSVC, decision function = '1vr')\n",
    "\n",
    "X = [[0], [1], [2], [3]]\n",
    "Y = [0, 1, 2, 3]\n",
    "lin_clf = svm.LinearSVC()\n",
    "lin_clf.fit(X, Y) \n",
    "dec = lin_clf.decision_function([[1]])\n",
    "dec.shape[1]"
   ]
  },
  {
   "cell_type": "markdown",
   "metadata": {},
   "source": [
    "#### REGRESSION\n",
    "\n",
    "[SVR: linear vs nonlinear kernels](plot_svm_regression.ipynb)"
   ]
  },
  {
   "cell_type": "markdown",
   "metadata": {},
   "source": [
    "#### DENSITY ESTIMATION / NOVELTY DETECTION (1-CLASS SVM)\n",
    "\n",
    "[API](http://scikit-learn.org/stable/modules/generated/sklearn.svm.OneClassSVM.html#sklearn.svm.OneClassSVM) | [1cSVM: RBF kernel](plot_oneclass.ipynb) | [1cSVM: species distribution](plot_species_distribution_modeling.ipynb)"
   ]
  },
  {
   "cell_type": "code",
   "execution_count": 12,
   "metadata": {
    "collapsed": false
   },
   "outputs": [
    {
     "data": {
      "text/plain": [
       "'rbf'"
      ]
     },
     "execution_count": 12,
     "metadata": {},
     "output_type": "execute_result"
    }
   ],
   "source": [
    "# KERNEL OPTIONS:\n",
    "# linear, polynomial, rbf, sigmoid\n",
    "\n",
    "linear_svc = svm.SVC(kernel='linear')\n",
    "linear_svc.kernel\n",
    "\n",
    "rbf_svc = svm.SVC(kernel='rbf')\n",
    "rbf_svc.kernel"
   ]
  },
  {
   "cell_type": "markdown",
   "metadata": {},
   "source": [
    "#### CUSTOM KERNELS (PYTHON)\n",
    "\n",
    "[3-class SVM](plot_custom_kernel.ipynb)"
   ]
  },
  {
   "cell_type": "markdown",
   "metadata": {},
   "source": [
    "#### SVM WITH PRECOMPUTED 'GRAM' MATRIX"
   ]
  },
  {
   "cell_type": "code",
   "execution_count": 13,
   "metadata": {
    "collapsed": false
   },
   "outputs": [
    {
     "data": {
      "text/plain": [
       "array([0, 1])"
      ]
     },
     "execution_count": 13,
     "metadata": {},
     "output_type": "execute_result"
    }
   ],
   "source": [
    "import numpy as np\n",
    "from sklearn import svm\n",
    "X = np.array([[0, 0], [1, 1]])\n",
    "y = [0, 1]\n",
    "clf = svm.SVC(kernel='precomputed')\n",
    "# linear kernel computation\n",
    "gram = np.dot(X, X.T)\n",
    "clf.fit(gram, y) \n",
    "# predict on training examples\n",
    "clf.predict(gram)"
   ]
  },
  {
   "cell_type": "markdown",
   "metadata": {},
   "source": [
    "[SVM vs gamma,C params on RBF function](plot_rbf_parameters.ipynb)"
   ]
  },
  {
   "cell_type": "code",
   "execution_count": null,
   "metadata": {
    "collapsed": true
   },
   "outputs": [],
   "source": []
  }
 ],
 "metadata": {
  "kernelspec": {
   "display_name": "Python [Root]",
   "language": "python",
   "name": "Python [Root]"
  },
  "language_info": {
   "codemirror_mode": {
    "name": "ipython",
    "version": 3
   },
   "file_extension": ".py",
   "mimetype": "text/x-python",
   "name": "python",
   "nbconvert_exporter": "python",
   "pygments_lexer": "ipython3",
   "version": "3.5.2"
  }
 },
 "nbformat": 4,
 "nbformat_minor": 0
}
