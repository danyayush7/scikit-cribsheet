{
 "cells": [
  {
   "cell_type": "markdown",
   "metadata": {},
   "source": [
    "### INTRO\n",
    "\n",
    "* Classifiers with linear & quadratic decision surfaces\n",
    "* Inherently multiclass, no hyperparameters\n",
    "* Conditional probabilities P(X|y) = multivariate Gaussian\n",
    "\n",
    "[API:LDA](http://scikit-learn.org/stable/modules/generated/sklearn.discriminant_analysis.LinearDiscriminantAnalysis.html#sklearn.discriminant_analysis.LinearDiscriminantAnalysis) |\n",
    "[API:QDA](http://scikit-learn.org/stable/modules/generated/sklearn.discriminant_analysis.QuadraticDiscriminantAnalysis.html#sklearn.discriminant_analysis.QuadraticDiscriminantAnalysis) |\n",
    "[demo: confidence ellipsoids](plot_lda_qda.ipynb)"
   ]
  },
  {
   "cell_type": "markdown",
   "metadata": {},
   "source": [
    "### DIMENSIONALITY REDUCTION USING LDA\n",
    "\n",
    "* Projects input data to linear subspace which maximizes distance between classes\n",
    "* Dimensionality set with n_components\n",
    "\n",
    "[PCA vs LDA](plot_pca_vs_lda.ipynb)"
   ]
  },
  {
   "cell_type": "markdown",
   "metadata": {},
   "source": [
    "### SHRINKAGE\n",
    "\n",
    "* improves estimation of cv matrices when #examples << #features.\n",
    "* implemented with .shrinkage='auto'; only functional when .solver='lsqr'|'eigen'\n",
    "* manual settings: [0,1] \n",
    "   * (0 = no shrinkage = empirical cv matrix used)\n",
    "   * (1 = complete shinkage = diagonal matrix of variances used)\n",
    "\n",
    "[API](http://scikit-learn.org/stable/modules/generated/sklearn.discriminant_analysis.LinearDiscriminantAnalysis.html#sklearn.discriminant_analysis.LinearDiscriminantAnalysis) | [demo](plot_lda.ipynb)"
   ]
  },
  {
   "cell_type": "code",
   "execution_count": 1,
   "metadata": {
    "collapsed": false
   },
   "outputs": [
    {
     "name": "stdout",
     "output_type": "stream",
     "text": [
      "[1]\n"
     ]
    }
   ],
   "source": [
    "import numpy as np\n",
    "from sklearn.discriminant_analysis import LinearDiscriminantAnalysis\n",
    "X = np.array([[-1, -1], [-2, -1], [-3, -2], [1, 1], [2, 1], [3, 2]])\n",
    "y = np.array([1, 1, 1, 2, 2, 2])\n",
    "clf = LinearDiscriminantAnalysis()\n",
    "clf.fit(X, y)\n",
    "\n",
    "print(clf.predict([[-0.8, -1]]))"
   ]
  },
  {
   "cell_type": "markdown",
   "metadata": {},
   "source": [
    "### ESTIMATION ALGOS\n",
    "\n",
    "* 'svd': default, used for classifications & transforms.\n",
    "* 'svd': doesn't need cv matrix.\n",
    "* 'svd': doesn't support shrikage.\n",
    "* 'lsqr': efficient, only for classification.\n",
    "* 'lsqr': supports shrinkage.\n",
    "* 'eigen': used for classifications & transforms, supports shrinkage.\n",
    "* 'eigen': needs cv matrix == disadvantage in high-D problems\n",
    "\n"
   ]
  },
  {
   "cell_type": "code",
   "execution_count": null,
   "metadata": {
    "collapsed": true
   },
   "outputs": [],
   "source": []
  }
 ],
 "metadata": {
  "kernelspec": {
   "display_name": "Python [Root]",
   "language": "python",
   "name": "Python [Root]"
  },
  "language_info": {
   "codemirror_mode": {
    "name": "ipython",
    "version": 3
   },
   "file_extension": ".py",
   "mimetype": "text/x-python",
   "name": "python",
   "nbconvert_exporter": "python",
   "pygments_lexer": "ipython3",
   "version": "3.5.2"
  }
 },
 "nbformat": 4,
 "nbformat_minor": 0
}
