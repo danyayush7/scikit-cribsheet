{
 "cells": [
  {
   "cell_type": "markdown",
   "metadata": {},
   "source": [
    "### Intro\n",
    "\n",
    "* Trades accuracy (variance) for smaller model sizes == faster execution.\n",
    "* Uses [Gaussian](http://scikit-learn.org/stable/modules/random_projection.html#gaussian-random-matrix)  or [Sparse](http://scikit-learn.org/stable/modules/random_projection.html#sparse-random-matrix) random matrix as needed\n",
    "\n",
    "[random_projection](http://scikit-learn.org/stable/modules/classes.html#module-sklearn.random_projection) "
   ]
  },
  {
   "cell_type": "markdown",
   "metadata": {},
   "source": [
    "### [Johnson-Lindenstrauss lemma](http://scikit-learn.org/stable/modules/generated/sklearn.random_projection.johnson_lindenstrauss_min_dim.html#sklearn.random_projection.johnson_lindenstrauss_min_dim) | [Wikipedia](https://en.wikipedia.org/wiki/Johnson%E2%80%93Lindenstrauss_lemma) | [demo](plot_johnson_lindenstrauss_bound.ipynb)"
   ]
  },
  {
   "cell_type": "code",
   "execution_count": 1,
   "metadata": {
    "collapsed": false
   },
   "outputs": [
    {
     "name": "stdout",
     "output_type": "stream",
     "text": [
      "663\n",
      "[    663   11841 1112658]\n",
      "[ 7894  9868 11841]\n"
     ]
    }
   ],
   "source": [
    "# johnson_lindenstrauss_min_dim \n",
    "# estimates minimal random subspace to guarantee a bounded distortion\n",
    "# intro'd by a random projection.\n",
    "\n",
    "from sklearn.random_projection import johnson_lindenstrauss_min_dim\n",
    "\n",
    "print(johnson_lindenstrauss_min_dim(\n",
    "        n_samples=1e6, eps=0.5))\n",
    "\n",
    "print(johnson_lindenstrauss_min_dim(\n",
    "        n_samples=1e6, eps=[0.5, 0.1, 0.01]))\n",
    "\n",
    "print(johnson_lindenstrauss_min_dim(\n",
    "        n_samples=[1e4, 1e5, 1e6], eps=0.1))"
   ]
  },
  {
   "cell_type": "markdown",
   "metadata": {},
   "source": [
    "### [Random projection (Gaussian)](http://scikit-learn.org/stable/modules/generated/sklearn.random_projection.GaussianRandomProjection.html#sklearn.random_projection.GaussianRandomProjection) "
   ]
  },
  {
   "cell_type": "code",
   "execution_count": 2,
   "metadata": {
    "collapsed": false
   },
   "outputs": [
    {
     "data": {
      "text/plain": [
       "(100, 3947)"
      ]
     },
     "execution_count": 2,
     "metadata": {},
     "output_type": "execute_result"
    }
   ],
   "source": [
    "#example\n",
    "import numpy as np\n",
    "from sklearn import random_projection\n",
    "X = np.random.rand(100, 10000)\n",
    "transformer = random_projection.GaussianRandomProjection()\n",
    "X_new = transformer.fit_transform(X)\n",
    "X_new.shape"
   ]
  },
  {
   "cell_type": "markdown",
   "metadata": {},
   "source": [
    "### [Random projection (sparse)](http://scikit-learn.org/stable/modules/generated/sklearn.random_projection.SparseRandomProjection.html#sklearn.random_projection.SparseRandomProjection)\n",
    "\n",
    "* Sparse random matrices == alternative to dense Gaussians\n"
   ]
  },
  {
   "cell_type": "code",
   "execution_count": 7,
   "metadata": {
    "collapsed": false
   },
   "outputs": [
    {
     "data": {
      "text/plain": [
       "(100, 3947)"
      ]
     },
     "execution_count": 7,
     "metadata": {},
     "output_type": "execute_result"
    }
   ],
   "source": [
    "import numpy as np\n",
    "from sklearn import random_projection\n",
    "X = np.random.rand(100,10000)\n",
    "transformer = random_projection.SparseRandomProjection()\n",
    "X_new = transformer.fit_transform(X)\n",
    "X_new.shape"
   ]
  },
  {
   "cell_type": "code",
   "execution_count": null,
   "metadata": {
    "collapsed": true
   },
   "outputs": [],
   "source": []
  }
 ],
 "metadata": {
  "anaconda-cloud": {},
  "kernelspec": {
   "display_name": "Python [Root]",
   "language": "python",
   "name": "Python [Root]"
  },
  "language_info": {
   "codemirror_mode": {
    "name": "ipython",
    "version": 3
   },
   "file_extension": ".py",
   "mimetype": "text/x-python",
   "name": "python",
   "nbconvert_exporter": "python",
   "pygments_lexer": "ipython3",
   "version": "3.5.2"
  }
 },
 "nbformat": 4,
 "nbformat_minor": 0
}
