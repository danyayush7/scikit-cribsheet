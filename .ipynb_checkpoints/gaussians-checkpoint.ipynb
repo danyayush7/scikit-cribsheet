{
 "cells": [
  {
   "cell_type": "markdown",
   "metadata": {},
   "source": [
    "### GAUSSIAN REGRESSIONS (GPR)\n",
    "\n",
    "[API](http://scikit-learn.org/stable/modules/generated/sklearn.gaussian_process.GaussianProcessRegressor.html#sklearn.gaussian_process.GaussianProcessRegressor) \n",
    "\n",
    "* GP prior assumptions: \n",
    "   * mean=0 or mean of training data\n",
    "   * covariance = provided by kernel object\n",
    "   \n",
    "[Noise level est w/ WhiteKernel](plot_gpr_noisy.ipynb) | \n",
    "[GPR vs Kernel Ridge](plot_compare_gpr_krr.ipynb) |\n",
    "[Mauna Loa CO2 dataset](plot_gpr_co2.ipynb)"
   ]
  },
  {
   "cell_type": "markdown",
   "metadata": {},
   "source": [
    "### GAUSSIAN CLASSIFICATIONS (GPC)\n",
    "\n",
    "[API](http://scikit-learn.org/stable/modules/generated/sklearn.gaussian_process.GaussianProcessClassifier.html#sklearn.gaussian_process.GaussianProcessClassifier)\n",
    "\n",
    "[GPC, RBF kernel, range of params](plot_gpc.ipynb) | \n",
    "[GPC, RBF vs DotProduct, XOR dataset](plot_gpc_xor.ipynb) |\n",
    "[GPC, isotropic vs anisotropic RBF, iris](plot_gpc_iris.ipynb)"
   ]
  },
  {
   "cell_type": "markdown",
   "metadata": {},
   "source": [
    "### KERNELS (AKA COVARIANCE FUNCTIONS)\n",
    "\n",
    "* Two categories:\n",
    "   * \"stationary\" (depend on distance betw 2 datapoints)\n",
    "      * isotropic: invariant to input space rotations\n",
    "      * anisotropic: varying by input space rotations\n",
    "   * \"non-stationary\" (depends on specific locations)\n",
    "\n",
    "* Use case: find GP's covariance between datapoints.\n",
    "\n",
    "* [ConstantKernel](http://scikit-learn.org/stable/modules/generated/sklearn.gaussian_process.kernels.ConstantKernel.html#sklearn.gaussian_process.kernels.ConstantKernel)\n",
    "* [WhiteKernel](http://scikit-learn.org/stable/modules/generated/sklearn.gaussian_process.kernels.WhiteKernel.html#sklearn.gaussian_process.kernels.WhiteKernel)\n",
    "* [Sum Kernel](http://scikit-learn.org/stable/modules/generated/sklearn.gaussian_process.kernels.Sum.html#sklearn.gaussian_process.kernels.Sum)\n",
    "* [Product Kernel](http://scikit-learn.org/stable/modules/generated/sklearn.gaussian_process.kernels.Product.html#sklearn.gaussian_process.kernels.Product)\n",
    "* [Exponentiation Kernel](http://scikit-learn.org/stable/modules/generated/sklearn.gaussian_process.kernels.Exponentiation.html#sklearn.gaussian_process.kernels.Exponentiation)\n",
    "* [RBF Kernel](http://scikit-learn.org/stable/modules/generated/sklearn.gaussian_process.kernels.RBF.html#sklearn.gaussian_process.kernels.RBF)\n",
    "* [Matern Kernel](http://scikit-learn.org/stable/modules/generated/sklearn.gaussian_process.kernels.Matern.html#sklearn.gaussian_process.kernels.Matern)\n",
    "* [Rational Quadratic Kernel](http://scikit-learn.org/stable/modules/generated/sklearn.gaussian_process.kernels.RationalQuadratic.html#sklearn.gaussian_process.kernels.RationalQuadratic)\n",
    "* [Exp-Sine-Squared Kernel](http://scikit-learn.org/stable/modules/generated/sklearn.gaussian_process.kernels.ExpSineSquared.html#sklearn.gaussian_process.kernels.ExpSineSquared)\n",
    "* [Dot-Product Kernel](http://scikit-learn.org/stable/modules/generated/sklearn.gaussian_process.kernels.DotProduct.html#sklearn.gaussian_process.kernels.DotProduct)"
   ]
  },
  {
   "cell_type": "code",
   "execution_count": 3,
   "metadata": {
    "collapsed": false
   },
   "outputs": [
    {
     "name": "stdout",
     "output_type": "stream",
     "text": [
      "Hyperparameter(name='k1__k1__constant_value', value_type='numeric', bounds=array([[  0.,  10.]]), n_elements=1, fixed=False)\n",
      "Hyperparameter(name='k1__k2__length_scale', value_type='numeric', bounds=array([[  0.,  10.]]), n_elements=1, fixed=False)\n",
      "Hyperparameter(name='k2__length_scale', value_type='numeric', bounds=array([[  0.,  10.]]), n_elements=1, fixed=False)\n",
      "k1 : 1**2 * RBF(length_scale=0.5)\n",
      "k1__k1 : 1**2\n",
      "k1__k1__constant_value : 1.0\n",
      "k1__k1__constant_value_bounds : (0.0, 10.0)\n",
      "k1__k2 : RBF(length_scale=0.5)\n",
      "k1__k2__length_scale : 0.5\n",
      "k1__k2__length_scale_bounds : (0.0, 10.0)\n",
      "k2 : RBF(length_scale=2)\n",
      "k2__length_scale : 2.0\n",
      "k2__length_scale_bounds : (0.0, 10.0)\n",
      "[ 0.         -0.69314718  0.69314718]\n",
      "[[       -inf  2.30258509]\n",
      " [       -inf  2.30258509]\n",
      " [       -inf  2.30258509]]\n"
     ]
    },
    {
     "name": "stderr",
     "output_type": "stream",
     "text": [
      "/home/bjpcjp/anaconda3/lib/python3.5/site-packages/sklearn/gaussian_process/kernels.py:288: RuntimeWarning: divide by zero encountered in log\n",
      "  return np.log(np.vstack(bounds))\n"
     ]
    }
   ],
   "source": [
    "# example\n",
    "from sklearn.gaussian_process.kernels import ConstantKernel, RBF\n",
    "\n",
    "kernel = ConstantKernel(\n",
    "    constant_value=1.0, \n",
    "    constant_value_bounds=(0.0, 10.0)) * RBF(length_scale=0.5, \n",
    "                                             length_scale_bounds=(0.0, 10.0)) + RBF(length_scale=2.0, \n",
    "                                                                                    length_scale_bounds=(0.0, 10.0))\n",
    "for hyperparameter in kernel.hyperparameters: print(hyperparameter)\n",
    "params = kernel.get_params()\n",
    "for key in sorted(params): print(\"%s : %s\" % (key, params[key]))\n",
    "print(kernel.theta)  # Note: log-transformed\n",
    "print(kernel.bounds)  # Note: log-transformed\n"
   ]
  },
  {
   "cell_type": "code",
   "execution_count": null,
   "metadata": {
    "collapsed": true
   },
   "outputs": [],
   "source": []
  }
 ],
 "metadata": {
  "anaconda-cloud": {},
  "kernelspec": {
   "display_name": "Python [Root]",
   "language": "python",
   "name": "Python [Root]"
  },
  "language_info": {
   "codemirror_mode": {
    "name": "ipython",
    "version": 3
   },
   "file_extension": ".py",
   "mimetype": "text/x-python",
   "name": "python",
   "nbconvert_exporter": "python",
   "pygments_lexer": "ipython3",
   "version": "3.5.2"
  }
 },
 "nbformat": 4,
 "nbformat_minor": 0
}
