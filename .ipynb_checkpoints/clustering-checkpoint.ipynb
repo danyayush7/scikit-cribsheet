{
 "cells": [
  {
   "cell_type": "markdown",
   "metadata": {},
   "source": [
    "### OVERVIEW\n",
    "\n",
    "* all methods accept std matrix of [#samples, #features]\n",
    "* AP, SC, DBSCAN accept similarity matrix of [#samples, #samples]\n",
    "* returns array [integer_label,...] corresponding to each cluster\n",
    "* class labels can be in *labels_*\n",
    "\n",
    "[comparison](plot_cluster_comparison.ipynb)"
   ]
  },
  {
   "cell_type": "markdown",
   "metadata": {
    "collapsed": true
   },
   "source": [
    "### K-MEANS (LLOYD'S ALGO)\n",
    "\n",
    "* Tries to separate data into n groups of equal variance \n",
    "* Uses minimal intertia (within-cluster sum-of-square) criterion\n",
    "* Assumes clusters are convex & isotropic, not always true\n",
    "* Poor response to elongated clusters or irregular manifolds\n",
    "* Inertia not normalized; distances get big in high-D spaces\n",
    "* Consider dimensionality reduction before running Kmeans\n",
    "* Kmeans always converges, possibly at local minimum\n",
    "* Use multi initializations to overcome local minima issue\n",
    "\n",
    "[API](http://scikit-learn.org/stable/modules/generated/sklearn.cluster.KMeans.html#sklearn.cluster.KMeans)\n",
    "\n",
    "[demo, iris](plot_cluster_iris.ipynb) | \n",
    "[demo, color quant](plot_color_quantization.ipynb) |\n",
    "[demo, assumptions](plot_kmeans_assumptions.ipynb) |\n",
    "[demo, digits](plot_kmeans_digits.ipynb)\n",
    "\n",
    "[demo, silhouette](plot_kmeans_silhouette_analysis.ipynb) |\n",
    "[demo, initialization](plot_kmeans_stability_low_dim_dense.ipynb) |\n",
    "\n",
    "* Visualization also available via [Voronoi diagrams](https://en.wikipedia.org/wiki/Voronoi_diagram)\n",
    "\n",
    "### MINIBATCH KMEANS\n",
    "\n",
    "* Goal: reduce computation time while optimizing same function\n",
    "* Uses random subsets for training on each iteration\n",
    "\n",
    "[API](http://scikit-learn.org/stable/modules/generated/sklearn.cluster.MiniBatchKMeans.html#sklearn.cluster.MiniBatchKMeans) |\n",
    "[learn faces dataset](plot_dict_face_patches.ipynb) |\n",
    "[kmeans std vs minibatch](plot_mini_batch_kmeans.ipynb)"
   ]
  },
  {
   "cell_type": "markdown",
   "metadata": {
    "collapsed": true
   },
   "source": [
    "### AFFINITY PROPAGATION\n",
    "\n",
    "* creates clusters by sending msgs between sample pairs until convergence.\n",
    "* dataset modeled with \"exemplars\" (most representative of total)\n",
    "* Main issue is complexity. Use on small-medium datasets\n",
    "\n",
    "[API](http://scikit-learn.org/stable/modules/generated/sklearn.cluster.AffinityPropagation.html#sklearn.cluster.AffinityPropagation) |\n",
    "[example](plot_affinity_propagation.ipynb) |\n",
    "[plot stock market](plot_stock_market.ipynb)"
   ]
  },
  {
   "cell_type": "markdown",
   "metadata": {
    "collapsed": true
   },
   "source": [
    "### MEAN SHIFT\n",
    "\n",
    "* Looks for blobs in a smooth density of samples\n",
    "* Centroid-based\n",
    "* Automatically sets #clusters\n",
    "\n",
    "[API](http://scikit-learn.org/stable/modules/generated/sklearn.cluster.MeanShift.html#sklearn.cluster.MeanShift) | \n",
    "[example](plot_mean_shift.ipynb)"
   ]
  },
  {
   "cell_type": "markdown",
   "metadata": {
    "collapsed": true
   },
   "source": [
    "### SPECTRAL CLUSTERING\n",
    "\n",
    "* Finds a low-D representation of affinity matrix, followed by K-means.\n",
    "\n",
    "[API](http://scikit-learn.org/stable/modules/generated/sklearn.cluster.SpectralClustering.html#sklearn.cluster.SpectralClustering) |\n",
    "[image segmentation](plot_segmentation_toy.ipynb) |\n",
    "[raccoon face segmentation](plot_face_segmentation.ipynb)"
   ]
  },
  {
   "cell_type": "markdown",
   "metadata": {
    "collapsed": true
   },
   "source": [
    "### HIERARCHICAL CLUSTERING\n",
    "\n",
    "* Hierarchy represented by tree or dendrogram\n",
    "* Linkage criteria used for cluster merging:\n",
    "   * 1) Ward/min-variance linkage\n",
    "   * 2) Max/complete linkage\n",
    "   * 3) Avg linkage\n",
    "* Usually returns uneven cluster sizes\n",
    "* Can use Euclidian, Manhattan, cosine distances for linkages\n",
    "\n",
    "[API](http://scikit-learn.org/stable/modules/generated/sklearn.cluster.AgglomerativeClustering.html#sklearn.cluster.AgglomerativeClustering) |\n",
    "[demo](plot_agglomerative_clustering.ipynb) |\n",
    "[metrics](plot_agglomerative_clustering_metrics.ipynb) |\n",
    "[2D digits](plot_digits_linkage.ipynb) |\n",
    "\n",
    "* Connectivty constraints (ex: only adjacent clusters can be merged) can be used. \n",
    "\n",
    "[struct vs unstruct](plot_ward_structured_vs_unstructured.ipynb)"
   ]
  },
  {
   "cell_type": "markdown",
   "metadata": {
    "collapsed": true
   },
   "source": [
    "### DBSCAN\n",
    "\n",
    "* Views clusters as high-density areas, surrounded by low-D areas\n",
    "* This allows DBSCAN clusters to be any shape\n",
    "* Uses \"core samples\" concept to characterize each cluster\n",
    "\n",
    "[API](http://scikit-learn.org/stable/modules/generated/sklearn.cluster.DBSCAN.html#sklearn.cluster.DBSCAN) | [demo](plot_dbscan.ipynb)\n"
   ]
  },
  {
   "cell_type": "markdown",
   "metadata": {
    "collapsed": true
   },
   "source": [
    "### BIRCH\n",
    "\n",
    "* Builds a CFT (characteristic feature tree) from input data\n",
    "* Doesn't scale well. If D>20, use MiniBatchKmeans instead\n",
    "\n",
    "[API](http://scikit-learn.org/stable/modules/generated/sklearn.cluster.Birch.html#sklearn.cluster.Birch) | [birch vs kmeans](plot_birch_vs_minibatchkmeans.ipynb)"
   ]
  },
  {
   "cell_type": "markdown",
   "metadata": {
    "collapsed": true
   },
   "source": [
    "### SCORING: RAND INDEX\n",
    "\n",
    "* measures similarity of labels_true & labels_pred"
   ]
  },
  {
   "cell_type": "code",
   "execution_count": 1,
   "metadata": {
    "collapsed": false
   },
   "outputs": [
    {
     "data": {
      "text/plain": [
       "0.24242424242424246"
      ]
     },
     "execution_count": 1,
     "metadata": {},
     "output_type": "execute_result"
    }
   ],
   "source": [
    "from sklearn import metrics\n",
    "labels_true = [0, 0, 0, 1, 1, 1]\n",
    "labels_pred = [0, 0, 1, 1, 2, 2]\n",
    "\n",
    "metrics.adjusted_rand_score(labels_true, labels_pred)  "
   ]
  },
  {
   "cell_type": "code",
   "execution_count": 2,
   "metadata": {
    "collapsed": false
   },
   "outputs": [
    {
     "data": {
      "text/plain": [
       "0.24242424242424246"
      ]
     },
     "execution_count": 2,
     "metadata": {},
     "output_type": "execute_result"
    }
   ],
   "source": [
    "labels_pred = [1, 1, 0, 0, 3, 3]\n",
    "metrics.adjusted_rand_score(labels_true, labels_pred) "
   ]
  },
  {
   "cell_type": "code",
   "execution_count": 3,
   "metadata": {
    "collapsed": false
   },
   "outputs": [
    {
     "data": {
      "text/plain": [
       "0.24242424242424246"
      ]
     },
     "execution_count": 3,
     "metadata": {},
     "output_type": "execute_result"
    }
   ],
   "source": [
    "# ARS is symmetric; swapping arg doesn't change score\n",
    "metrics.adjusted_rand_score(labels_pred, labels_true)  "
   ]
  },
  {
   "cell_type": "code",
   "execution_count": 4,
   "metadata": {
    "collapsed": false
   },
   "outputs": [
    {
     "data": {
      "text/plain": [
       "1.0"
      ]
     },
     "execution_count": 4,
     "metadata": {},
     "output_type": "execute_result"
    }
   ],
   "source": [
    "# perfect labeling:\n",
    "labels_pred = labels_true[:]\n",
    "metrics.adjusted_rand_score(labels_true, labels_pred)"
   ]
  },
  {
   "cell_type": "code",
   "execution_count": 5,
   "metadata": {
    "collapsed": false
   },
   "outputs": [
    {
     "data": {
      "text/plain": [
       "-0.12903225806451613"
      ]
     },
     "execution_count": 5,
     "metadata": {},
     "output_type": "execute_result"
    }
   ],
   "source": [
    "# bad (independent) labeling:\n",
    "labels_true = [0, 1, 2, 0, 3, 4, 5, 1]\n",
    "labels_pred = [1, 1, 0, 0, 2, 2, 2, 2]\n",
    "metrics.adjusted_rand_score(labels_true, labels_pred)  "
   ]
  },
  {
   "cell_type": "markdown",
   "metadata": {},
   "source": [
    "[example: adjustment for chance](plot_adjusted_for_chance_measures.ipynb)"
   ]
  },
  {
   "cell_type": "markdown",
   "metadata": {
    "collapsed": true
   },
   "source": [
    "### SCORING: MUTUAL INFORMATION\n",
    "\n",
    "* measures agreement between labels_true & labels_pred\n",
    "* two normalized versions (NMI, AMI) available"
   ]
  },
  {
   "cell_type": "code",
   "execution_count": 6,
   "metadata": {
    "collapsed": false
   },
   "outputs": [
    {
     "data": {
      "text/plain": [
       "0.2250422831983088"
      ]
     },
     "execution_count": 6,
     "metadata": {},
     "output_type": "execute_result"
    }
   ],
   "source": [
    "from sklearn import metrics\n",
    "labels_true = [0, 0, 0, 1, 1, 1]\n",
    "labels_pred = [0, 0, 1, 1, 2, 2]\n",
    "metrics.adjusted_mutual_info_score(labels_true, labels_pred) "
   ]
  },
  {
   "cell_type": "code",
   "execution_count": 7,
   "metadata": {
    "collapsed": false
   },
   "outputs": [
    {
     "data": {
      "text/plain": [
       "0.2250422831983088"
      ]
     },
     "execution_count": 7,
     "metadata": {},
     "output_type": "execute_result"
    }
   ],
   "source": [
    "labels_pred = [1, 1, 0, 0, 3, 3]\n",
    "metrics.adjusted_mutual_info_score(labels_true, labels_pred) "
   ]
  },
  {
   "cell_type": "code",
   "execution_count": 8,
   "metadata": {
    "collapsed": false
   },
   "outputs": [
    {
     "data": {
      "text/plain": [
       "0.2250422831983088"
      ]
     },
     "execution_count": 8,
     "metadata": {},
     "output_type": "execute_result"
    }
   ],
   "source": [
    "# symmetric\n",
    "metrics.adjusted_mutual_info_score(labels_pred, labels_true)  "
   ]
  },
  {
   "cell_type": "code",
   "execution_count": 9,
   "metadata": {
    "collapsed": false
   },
   "outputs": [
    {
     "data": {
      "text/plain": [
       "1.0"
      ]
     },
     "execution_count": 9,
     "metadata": {},
     "output_type": "execute_result"
    }
   ],
   "source": [
    "# perfect labeling\n",
    "labels_pred = labels_true[:]\n",
    "metrics.adjusted_mutual_info_score(labels_true, labels_pred)\n",
    "metrics.normalized_mutual_info_score(labels_true, labels_pred)"
   ]
  },
  {
   "cell_type": "code",
   "execution_count": 10,
   "metadata": {
    "collapsed": false
   },
   "outputs": [
    {
     "data": {
      "text/plain": [
       "0.69314718055994518"
      ]
     },
     "execution_count": 10,
     "metadata": {},
     "output_type": "execute_result"
    }
   ],
   "source": [
    "# not true for mutual_info_score\n",
    "metrics.mutual_info_score(labels_true, labels_pred)  "
   ]
  },
  {
   "cell_type": "code",
   "execution_count": 11,
   "metadata": {
    "collapsed": false
   },
   "outputs": [
    {
     "data": {
      "text/plain": [
       "-0.10526315789473674"
      ]
     },
     "execution_count": 11,
     "metadata": {},
     "output_type": "execute_result"
    }
   ],
   "source": [
    "# bad (independent) labels:\n",
    "labels_true = [0, 1, 2, 0, 3, 4, 5, 1]\n",
    "labels_pred = [1, 1, 0, 0, 2, 2, 2, 2]\n",
    "metrics.adjusted_mutual_info_score(labels_true, labels_pred)"
   ]
  },
  {
   "cell_type": "markdown",
   "metadata": {
    "collapsed": true
   },
   "source": [
    "### SCORING: FOWLKES-MALLOWS\n",
    "\n",
    "[API](http://scikit-learn.org/stable/modules/generated/sklearn.metrics.fowlkes_mallows_score.html#sklearn.metrics.fowlkes_mallows_score)\n",
    "\n",
    "* Measures similarity of two clusters\n",
    "* defined as geometric mean of precision & result\n",
    "* FMI = TP/sqrt((TP+FP)*(TP_FN))"
   ]
  },
  {
   "cell_type": "code",
   "execution_count": 12,
   "metadata": {
    "collapsed": false
   },
   "outputs": [
    {
     "data": {
      "text/plain": [
       "1.0"
      ]
     },
     "execution_count": 12,
     "metadata": {},
     "output_type": "execute_result"
    }
   ],
   "source": [
    "# perfect labeling\n",
    "from sklearn.metrics.cluster import fowlkes_mallows_score\n",
    "fowlkes_mallows_score([0, 0, 1, 1], [0, 0, 1, 1]),\n",
    "fowlkes_mallows_score([0, 0, 1, 1], [1, 1, 0, 0])"
   ]
  },
  {
   "cell_type": "code",
   "execution_count": 13,
   "metadata": {
    "collapsed": false
   },
   "outputs": [
    {
     "data": {
      "text/plain": [
       "0.0"
      ]
     },
     "execution_count": 13,
     "metadata": {},
     "output_type": "execute_result"
    }
   ],
   "source": [
    "# if class members 100% split across diff clusters, \n",
    "# then assignment is total random.\n",
    "fowlkes_mallows_score([0, 0, 0, 0], [0, 1, 2, 3])"
   ]
  },
  {
   "cell_type": "code",
   "execution_count": 14,
   "metadata": {
    "collapsed": false
   },
   "outputs": [
    {
     "data": {
      "text/plain": [
       "0.0"
      ]
     },
     "execution_count": 14,
     "metadata": {},
     "output_type": "execute_result"
    }
   ],
   "source": [
    "# bad (independent) labels:\n",
    "labels_true = [0, 1, 2, 0, 3, 4, 5, 1]\n",
    "labels_pred = [1, 1, 0, 0, 2, 2, 2, 2]\n",
    "metrics.fowlkes_mallows_score(labels_true, labels_pred)  "
   ]
  },
  {
   "cell_type": "markdown",
   "metadata": {
    "collapsed": true
   },
   "source": [
    "### SCORING: SILHOUETTE COEFFICIENT\n",
    "\n",
    "[API](http://scikit-learn.org/stable/modules/generated/sklearn.metrics.silhouette_score.html#sklearn.metrics.silhouette_score) | [example](plot_kmeans_silhouette_analysis.ipynb)"
   ]
  },
  {
   "cell_type": "code",
   "execution_count": 15,
   "metadata": {
    "collapsed": true
   },
   "outputs": [],
   "source": [
    "# SC for set of samples = mean of SC for each sample.\n",
    "from sklearn import metrics\n",
    "from sklearn.metrics import pairwise_distances\n",
    "from sklearn import datasets\n",
    "dataset = datasets.load_iris()\n",
    "X = dataset.data\n",
    "y = dataset.target"
   ]
  },
  {
   "cell_type": "code",
   "execution_count": 16,
   "metadata": {
    "collapsed": false
   },
   "outputs": [
    {
     "data": {
      "text/plain": [
       "0.55259194452136762"
      ]
     },
     "execution_count": 16,
     "metadata": {},
     "output_type": "execute_result"
    }
   ],
   "source": [
    "# apply to results of a cluster analysis\n",
    "import numpy as np\n",
    "from sklearn.cluster import KMeans\n",
    "kmeans_model = KMeans(n_clusters=3, random_state=1).fit(X)\n",
    "labels = kmeans_model.labels_\n",
    "metrics.silhouette_score(X, labels, metric='euclidean')"
   ]
  },
  {
   "cell_type": "markdown",
   "metadata": {
    "collapsed": true
   },
   "source": [
    "### SCORING: CALINSKI-HARABAZ INDEX\n",
    "\n",
    "[API](http://scikit-learn.org/stable/modules/generated/sklearn.metrics.calinski_harabaz_score.html#sklearn.metrics.calinski_harabaz_score)\n",
    "\n",
    "* Defined as ratio of (between-clusters dispersion mean / within-clusters dispersion mean)"
   ]
  },
  {
   "cell_type": "code",
   "execution_count": 17,
   "metadata": {
    "collapsed": true
   },
   "outputs": [],
   "source": [
    "from sklearn import metrics\n",
    "from sklearn.metrics import pairwise_distances\n",
    "from sklearn import datasets\n",
    "dataset = datasets.load_iris()\n",
    "X = dataset.data\n",
    "y = dataset.target"
   ]
  },
  {
   "cell_type": "code",
   "execution_count": 18,
   "metadata": {
    "collapsed": false
   },
   "outputs": [
    {
     "data": {
      "text/plain": [
       "560.39992424664024"
      ]
     },
     "execution_count": 18,
     "metadata": {},
     "output_type": "execute_result"
    }
   ],
   "source": [
    "# apply to results of a cluster analysis\n",
    "import numpy as np\n",
    "from sklearn.cluster import KMeans\n",
    "kmeans_model = KMeans(n_clusters=3, random_state=1).fit(X)\n",
    "labels = kmeans_model.labels_\n",
    "metrics.calinski_harabaz_score(X, labels)  "
   ]
  },
  {
   "cell_type": "markdown",
   "metadata": {
    "collapsed": true
   },
   "source": []
  }
 ],
 "metadata": {
  "kernelspec": {
   "display_name": "Python [Root]",
   "language": "python",
   "name": "Python [Root]"
  },
  "language_info": {
   "codemirror_mode": {
    "name": "ipython",
    "version": 3
   },
   "file_extension": ".py",
   "mimetype": "text/x-python",
   "name": "python",
   "nbconvert_exporter": "python",
   "pygments_lexer": "ipython3",
   "version": "3.5.2"
  }
 },
 "nbformat": 4,
 "nbformat_minor": 0
}
