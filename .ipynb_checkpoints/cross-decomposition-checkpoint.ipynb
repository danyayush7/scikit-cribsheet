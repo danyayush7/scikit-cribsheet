{
 "cells": [
  {
   "cell_type": "markdown",
   "metadata": {},
   "source": [
    "### INTRO\n",
    "\n",
    "* Uses partial least squares (PLS), canonical correlatin analysis (CCA).\n",
    "* Use case: find linear relations between 2 multivariate datasets\n",
    "\n",
    "* API:\n",
    "[PLS Regression](http://scikit-learn.org/stable/modules/generated/sklearn.cross_decomposition.PLSRegression.html#sklearn.cross_decomposition.PLSRegression) |\n",
    "[PLS Canonical](http://scikit-learn.org/stable/modules/generated/sklearn.cross_decomposition.PLSCanonical.html#sklearn.cross_decomposition.PLSCanonical) |\n",
    "[CCA](http://scikit-learn.org/stable/modules/generated/sklearn.cross_decomposition.CCA.html#sklearn.cross_decomposition.CCA) |\n",
    "[PLSSVD](http://scikit-learn.org/stable/modules/generated/sklearn.cross_decomposition.PLSSVD.html#sklearn.cross_decomposition.PLSSVD)\n",
    "\n",
    "[demo: compare methods](plot_compare_cross_decomposition.ipynb)"
   ]
  },
  {
   "cell_type": "code",
   "execution_count": 5,
   "metadata": {
    "collapsed": false
   },
   "outputs": [
    {
     "name": "stdout",
     "output_type": "stream",
     "text": [
      "[[ 1.52568016  1.47577156]\n",
      " [ 2.43367318  2.3584298 ]\n",
      " [ 6.25638942  6.26638408]\n",
      " [ 8.88425724  8.99941456]]\n"
     ]
    }
   ],
   "source": [
    "### PLS Regression\n",
    "from sklearn.cross_decomposition import PLSRegression\n",
    "X = [[0., 0., 1.], [1.,0.,0.], [2.,2.,2.], [2.,5.,4.]]\n",
    "Y = [[0.1, -0.2], [0.9, 1.1], [6.2, 5.9], [11.9, 12.3]]\n",
    "pls2 = PLSRegression(n_components=2)\n",
    "pls2.fit(X, Y)\n",
    "Y_pred = pls2.predict(X)\n",
    "print(Y_pred)"
   ]
  },
  {
   "cell_type": "code",
   "execution_count": 6,
   "metadata": {
    "collapsed": false
   },
   "outputs": [
    {
     "name": "stdout",
     "output_type": "stream",
     "text": [
      "[[-1.39700475 -0.1179672 ]\n",
      " [-1.19678754  0.17050027]\n",
      " [ 0.56032252 -0.0991593 ]\n",
      " [ 2.03346977  0.04662624]]\n",
      "[[-1.22601804 -0.01674181]\n",
      " [-0.9602955   0.04216316]\n",
      " [ 0.32491535 -0.04379   ]\n",
      " [ 1.86139819  0.01836865]]\n"
     ]
    }
   ],
   "source": [
    "### PLS Canonical\n",
    "from sklearn.cross_decomposition import PLSCanonical\n",
    "X = [[0., 0., 1.], [1.,0.,0.], [2.,2.,2.], [2.,5.,4.]]\n",
    "Y = [[0.1, -0.2], [0.9, 1.1], [6.2, 5.9], [11.9, 12.3]]\n",
    "plsca = PLSCanonical(n_components=2)\n",
    "plsca.fit(X, Y)\n",
    "X_c, Y_c = plsca.transform(X, Y)\n",
    "print(X_c)\n",
    "print(Y_c)"
   ]
  },
  {
   "cell_type": "code",
   "execution_count": 7,
   "metadata": {
    "collapsed": false
   },
   "outputs": [
    {
     "name": "stdout",
     "output_type": "stream",
     "text": [
      "[[-1.3373174 ]\n",
      " [-1.10847164]\n",
      " [ 0.40763151]\n",
      " [ 2.03815753]]\n",
      "[[-0.85511537]\n",
      " [-0.70878547]\n",
      " [ 0.26065014]\n",
      " [ 1.3032507 ]]\n"
     ]
    }
   ],
   "source": [
    "### CCA (Canonical)\n",
    "from sklearn.cross_decomposition import CCA\n",
    "X = [[0., 0., 1.], [1.,0.,0.], [2.,2.,2.], [3.,5.,4.]]\n",
    "Y = [[0.1, -0.2], [0.9, 1.1], [6.2, 5.9], [11.9, 12.3]]\n",
    "cca = CCA(n_components=1)\n",
    "cca.fit(X, Y)\n",
    "X_c, Y_c = cca.transform(X, Y)\n",
    "print(X_c)\n",
    "print(Y_c)"
   ]
  },
  {
   "cell_type": "code",
   "execution_count": null,
   "metadata": {
    "collapsed": true
   },
   "outputs": [],
   "source": []
  }
 ],
 "metadata": {
  "kernelspec": {
   "display_name": "Python [Root]",
   "language": "python",
   "name": "Python [Root]"
  },
  "language_info": {
   "codemirror_mode": {
    "name": "ipython",
    "version": 3
   },
   "file_extension": ".py",
   "mimetype": "text/x-python",
   "name": "python",
   "nbconvert_exporter": "python",
   "pygments_lexer": "ipython3",
   "version": "3.5.2"
  }
 },
 "nbformat": 4,
 "nbformat_minor": 0
}
