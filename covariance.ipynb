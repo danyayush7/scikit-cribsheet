{
 "cells": [
  {
   "cell_type": "markdown",
   "metadata": {},
   "source": [
    "### Intro\n",
    "\n",
    "* Covariance matrices = estimation of dataset scatter plot shapes"
   ]
  },
  {
   "cell_type": "markdown",
   "metadata": {},
   "source": [
    "### Empirical CV\n",
    "\n",
    "* A cv matrix is well approximated using a max likelihood estimator (MLE) if #samples is large engh\n",
    "\n",
    "[API](http://scikit-learn.org/stable/modules/generated/sklearn.covariance.EmpiricalCovariance.html#sklearn.covariance.EmpiricalCovariance) |\n",
    "[demo, Mahalanobis distances](plot_mahalanobis_distances.ipynb) | "
   ]
  },
  {
   "cell_type": "markdown",
   "metadata": {},
   "source": [
    "### Shrunk CV\n",
    "\n",
    "* \"MLE not good estimator cv eigenvalues, so the precision matrix from its inversion is not accurate\"\n",
    "\n",
    "[API](http://scikit-learn.org/stable/modules/generated/sklearn.covariance.ShrunkCovariance.html#sklearn.covariance.ShrunkCovariance) |\n",
    "[demo: LedoitWolf v OA](plot_covariance_estimation.ipynb)"
   ]
  },
  {
   "cell_type": "markdown",
   "metadata": {},
   "source": [
    "### Oracle Approximating Shrinkage (OAS)\n",
    "\n",
    "* Assumes dataset is Gaussian\n",
    "\n",
    "[API](http://scikit-learn.org/stable/modules/generated/sklearn.covariance.OAS.html#sklearn.covariance.OAS) |\n",
    "[LW vs OAS](plot_lw_vs_oas.ipynb)"
   ]
  },
  {
   "cell_type": "markdown",
   "metadata": {},
   "source": [
    "### Sparse Inverse CV\n",
    "\n",
    "[demo](plot_sparse_cov.ipynb)"
   ]
  },
  {
   "cell_type": "markdown",
   "metadata": {},
   "source": [
    "### Robust CV Estimation\n",
    "\n",
    "* Datasets often contain measurement/recording errors (outliers)\n",
    "* MCD (Minimum Covariance Determinant) = robust cv estimator\n",
    "\n",
    "[API](http://scikit-learn.org/stable/modules/generated/sklearn.covariance.MinCovDet.html#sklearn.covariance.MinCovDet) |\n",
    "[demo, Robust vs Empirical](plot_robust_vs_empirical_covariance.ipynb)"
   ]
  }
 ],
 "metadata": {
  "anaconda-cloud": {},
  "kernelspec": {
   "display_name": "Python [Root]",
   "language": "python",
   "name": "Python [Root]"
  },
  "language_info": {
   "codemirror_mode": {
    "name": "ipython",
    "version": 3
   },
   "file_extension": ".py",
   "mimetype": "text/x-python",
   "name": "python",
   "nbconvert_exporter": "python",
   "pygments_lexer": "ipython3",
   "version": "3.5.2"
  }
 },
 "nbformat": 4,
 "nbformat_minor": 0
}
