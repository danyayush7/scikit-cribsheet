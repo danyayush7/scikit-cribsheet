{
 "cells": [
  {
   "cell_type": "markdown",
   "metadata": {},
   "source": [
    "### INTRO\n",
    "\n",
    "* HighD datasets = very difficult to viz. Need dimension reduction to help.\n",
    "* Simplest dim reduction method: take random projection. Unfortunately it's likely that interesting stuff will be lost.\n",
    "* dimensional reduction tools: PCA, ICA, LDA: powerful, but can miss non-linear structs\n",
    "\n",
    "[comparison of methods, toy-S-curve dataset](plot_compare_methods.ipynb) |\n",
    "[comparison of embeddings on digits dataset](plot_lle_digits.ipynb)"
   ]
  },
  {
   "cell_type": "markdown",
   "metadata": {},
   "source": [
    "### ISOMAP\n",
    "\n",
    "* Seeks a low-D representation, maintains geodesic distances between all points.\n",
    "\n",
    "** Complexity **\n",
    "\n",
    "   * Nearest Neighbor search using BallTree\n",
    "   * Shortest-Path graph search (using Dijkstra or Floyd-Warshall)\n",
    "   * Partial Eigenvalue decomposition (using ARPACK)\n",
    "\n",
    "[API](http://scikit-learn.org/stable/modules/generated/sklearn.manifold.Isomap.html#sklearn.manifold.Isomap) |\n",
    "[demo](plot_lle_digits.ipynb)"
   ]
  },
  {
   "cell_type": "markdown",
   "metadata": {},
   "source": [
    "### LOCALLY LINEAR EMBEDDING (LLE)\n",
    "\n",
    "* Seeks a low-D representation, preserves distances in local neighborhoods.\n",
    "\n",
    "** Complexity **\n",
    "   * Nearest Neighbor search\n",
    "   * Weight matrix construction\n",
    "   * Partial Eigenvalue decomposition\n",
    "   \n",
    "[API](http://scikit-learn.org/stable/modules/generated/sklearn.manifold.LocallyLinearEmbedding.html#sklearn.manifold.LocallyLinearEmbedding) |\n",
    "[demo-plot-stock-market](plot_stock_market.ipynb) |\n",
    "[demo-severed-sphere](plot_manifold_sphere.ipynb)"
   ]
  },
  {
   "cell_type": "markdown",
   "metadata": {},
   "source": [
    "\n",
    "### LLE (MODIFIED)\n",
    "\n",
    "[API, use method=\"modified\"](http://scikit-learn.org/stable/modules/generated/sklearn.manifold.LocallyLinearEmbedding.html#sklearn.manifold.LocallyLinearEmbedding)\n",
    "\n",
    "* Addresses LLE regularization problem.\n",
    "* When #neighbors >> #dimensions, \"local nieghborhood\" matrix = rank-deficient\n",
    "* MLLE uses weight vectors in each neighborhood.\n",
    "\n",
    "** Complexity **\n",
    "   * Nearest neighborhood search (same as LLE)\n",
    "   * Weight matrix construction (O(DNk3)+O(N(k-D)k2)\n",
    "   * Partial eigenvalue decomposition (same as LLE)"
   ]
  },
  {
   "cell_type": "markdown",
   "metadata": {},
   "source": [
    "### HESSIAN EIGENMAPPING\n",
    "\n",
    "[API, use method=\"hessian\"](http://scikit-learn.org/stable/modules/generated/sklearn.manifold.LocallyLinearEmbedding.html#sklearn.manifold.LocallyLinearEmbedding) |\n",
    "[demo: comparison](plot_lle_digits.ipynb)\n",
    "\n",
    "* Uses a [hessian](https://en.wikipedia.org/wiki/Hessian_matrix)-based quadratic form at each neighborhood.\n",
    "\n",
    "** Complexity **\n",
    "   * Nearest neighborhood search (same as LLE)\n",
    "   * Weight matrix construction (O(DNk3)+O(Nd6))\n",
    "   * Partial eigenvalue decomposition (same as LLE)\n"
   ]
  },
  {
   "cell_type": "markdown",
   "metadata": {},
   "source": [
    "### SPECTRAL EMBEDDING\n",
    "\n",
    "[API](http://scikit-learn.org/stable/modules/generated/sklearn.manifold.SpectralEmbedding.html#sklearn.manifold.SpectralEmbedding) |\n",
    "[demo: 2D digits](plot_digits_linkage.ipynb)\n",
    "\n",
    "* Also known as Laplacian Eigenmaps\n",
    "* Finds a low-D representation using spectral decomposition of a graph Laplacian.\n",
    "\n",
    "** Complexity **\n",
    "* Build Weighted Graph\n",
    "* Build Graph Laplacian\n",
    "* Partial Eigenvalue Decomposition\n",
    "* Total: O(Dlog(k)Nlog(N)) + O(DNk^3) + O(dN^2) \n",
    "\n"
   ]
  },
  {
   "cell_type": "markdown",
   "metadata": {},
   "source": [
    "### LOCAL TANGENT SPACE ALIGNMENT (LTSA)\n",
    "\n",
    "[API, use method='ltsa'](http://scikit-learn.org/stable/modules/generated/sklearn.manifold.LocallyLinearEmbedding.html#sklearn.manifold.LocallyLinearEmbedding)\n",
    "\n",
    "* Tries to describe local geometry at each neighborhood via a tangent space.\n",
    "\n",
    "** Complexity **\n",
    "\n",
    "   * Nearest Neighbor search (same as LLE)\n",
    "   * Weight matrix construction\n",
    "   * Partial Eigenvalue Decomposition (same as LLE)"
   ]
  },
  {
   "cell_type": "markdown",
   "metadata": {},
   "source": [
    "### MULTI-DIMENSIONAL SCALING\n",
    "\n",
    "[API](http://scikit-learn.org/stable/modules/generated/sklearn.manifold.MDS.html#sklearn.manifold.MDS) |\n",
    "[demo](plot_mds.ipynb)\n",
    "\n",
    "* Finds a low-D representation where distances respect original high-D data.\n",
    "* Tool for analyzing similarity of data using distances (which can represent similarity betw objects, for example)\n",
    "* Metric & non-metric variants available"
   ]
  },
  {
   "cell_type": "markdown",
   "metadata": {},
   "source": [
    "### NEIGHBOR EMBEDDING (T-SNE)\n",
    "\n",
    "[API](http://scikit-learn.org/stable/modules/generated/sklearn.manifold.TSNE.html#sklearn.manifold.TSNE) |\n",
    "[demo: comparison](plot_lle_digits.ipynb)\n",
    "\n",
    "* converts data point affinities (using Gaussian joint probs) to embedded probabilities (modeled by [Student's t-distributions](https://en.wikipedia.org/wiki/Student's_t-distribution).)\n",
    "* computationally expensive. Can take hours on millon-sample datasets.\n",
    "* stochastic; multi restarts with different seeds can yield different embeddings.\n",
    "* Works best when data embedded on 2-3 dimensions\n",
    "* 5 params to control optimization .. tricky!"
   ]
  },
  {
   "cell_type": "code",
   "execution_count": 1,
   "metadata": {
    "collapsed": false
   },
   "outputs": [
    {
     "data": {
      "text/plain": [
       "array([[ 0.00017599,  0.00003993],\n",
       "       [ 0.00009891,  0.00021913],\n",
       "       [ 0.00018554, -0.00009357],\n",
       "       [ 0.00009528, -0.00001407]])"
      ]
     },
     "execution_count": 1,
     "metadata": {},
     "output_type": "execute_result"
    }
   ],
   "source": [
    "#example\n",
    "import numpy as np\n",
    "from sklearn.manifold import TSNE\n",
    "X = np.array([[0, 0, 0], [0, 1, 1], [1, 0, 1], [1, 1, 1]])\n",
    "model = TSNE(n_components=2, random_state=0)\n",
    "np.set_printoptions(suppress=True)\n",
    "model.fit_transform(X) "
   ]
  },
  {
   "cell_type": "code",
   "execution_count": null,
   "metadata": {
    "collapsed": true
   },
   "outputs": [],
   "source": []
  }
 ],
 "metadata": {
  "anaconda-cloud": {},
  "kernelspec": {
   "display_name": "Python [Root]",
   "language": "python",
   "name": "Python [Root]"
  },
  "language_info": {
   "codemirror_mode": {
    "name": "ipython",
    "version": 3
   },
   "file_extension": ".py",
   "mimetype": "text/x-python",
   "name": "python",
   "nbconvert_exporter": "python",
   "pygments_lexer": "ipython3",
   "version": "3.5.2"
  }
 },
 "nbformat": 4,
 "nbformat_minor": 0
}
