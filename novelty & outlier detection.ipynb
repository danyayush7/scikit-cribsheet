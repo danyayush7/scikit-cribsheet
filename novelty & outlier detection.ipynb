{
 "cells": [
  {
   "cell_type": "markdown",
   "metadata": {},
   "source": [
    "### Intro\n",
    "\n",
    "* Novelty Detection: training data is NOT polluted by outliers. We want to detect anomalies in new observations.\n",
    "* Outlier Detection: training data IS polluted by outliers. We want to find central mode of training data, ignoring deviant observations"
   ]
  },
  {
   "cell_type": "markdown",
   "metadata": {},
   "source": [
    "### Novelty Detection\n",
    "\n",
    "* Consider: n observations, p features, same distribution\n",
    "* Does new datapoint come from same distribution?\n",
    "\n",
    "[API](http://scikit-learn.org/stable/modules/generated/sklearn.svm.OneClassSVM.html#sklearn.svm.OneClassSVM) |\n",
    "[demo: 1class SVM with RBF kernel](plot_oneclass.ipynb)"
   ]
  },
  {
   "cell_type": "markdown",
   "metadata": {},
   "source": [
    "### Outlier Detection - Elliptic Envelopes\n",
    "\n",
    "* assumes training data IS poluted\n",
    "* fits robust cv estimate to the data, then\n",
    "* fits ellipse to central datapoints\n",
    "\n",
    "[API](http://scikit-learn.org/stable/modules/generated/sklearn.covariance.EllipticEnvelope.html#sklearn.covariance.EllipticEnvelope) |\n",
    "[demo: housing dataset](plot_outlier_detection_housing.ipynb) |\n",
    "[demo: multi methods](plot_outlier_detection.ipynb)\n"
   ]
  },
  {
   "cell_type": "markdown",
   "metadata": {},
   "source": [
    "### Outlier Detection - Isolation Forests\n",
    "\n",
    "* Use case: high-d datasets\n",
    "* Isolates observations with random feature selection, then\n",
    "* random split value selection (between min,max value of selected feature)\n",
    "\n",
    "[API](http://scikit-learn.org/stable/modules/generated/sklearn.ensemble.IsolationForest.html#sklearn.ensemble.IsolationForest) |\n",
    "[demo](plot_isolation_forest.ipynb)\n"
   ]
  },
  {
   "cell_type": "markdown",
   "metadata": {},
   "source": [
    "### 1class SVM vs Elliptic Envelope vs Isolation Forest\n",
    "\n",
    "* inlier mode well-centered & elliptic\n",
    "* inlier bimodal distribution\n",
    "* strongly non-gaussian distribution"
   ]
  },
  {
   "cell_type": "code",
   "execution_count": null,
   "metadata": {
    "collapsed": true
   },
   "outputs": [],
   "source": []
  }
 ],
 "metadata": {
  "anaconda-cloud": {},
  "kernelspec": {
   "display_name": "Python [Root]",
   "language": "python",
   "name": "Python [Root]"
  },
  "language_info": {
   "codemirror_mode": {
    "name": "ipython",
    "version": 3
   },
   "file_extension": ".py",
   "mimetype": "text/x-python",
   "name": "python",
   "nbconvert_exporter": "python",
   "pygments_lexer": "ipython3",
   "version": "3.5.2"
  }
 },
 "nbformat": 4,
 "nbformat_minor": 0
}
