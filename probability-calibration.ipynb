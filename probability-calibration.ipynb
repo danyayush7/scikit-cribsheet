{
 "cells": [
  {
   "cell_type": "markdown",
   "metadata": {},
   "source": [
    "### INTRO\n",
    "\n",
    "* During classification you want 1) class label, 2) probability of label being correct\n",
    "* well-calibrated classifiers have `predict_proba` method to give confidence level\n",
    "\n",
    "[API]() |\n",
    "[demo compare calibrations](plot_compare_calibration.ipynb) |\n",
    "[demo classification calibration](plot_calibration.ipynb)"
   ]
  },
  {
   "cell_type": "markdown",
   "metadata": {},
   "source": [
    "### INTRO (MULTICLASS)\n",
    "\n",
    "* demo illustrates two methods for calibration & quality evaluation of each (using Brier's score)\n",
    "\n",
    "[API]() |\n",
    "[demo](plot_calibration_multiclass.ipynb)"
   ]
  },
  {
   "cell_type": "code",
   "execution_count": null,
   "metadata": {
    "collapsed": true
   },
   "outputs": [],
   "source": []
  }
 ],
 "metadata": {
  "kernelspec": {
   "display_name": "Python [Root]",
   "language": "python",
   "name": "Python [Root]"
  },
  "language_info": {
   "codemirror_mode": {
    "name": "ipython",
    "version": 3
   },
   "file_extension": ".py",
   "mimetype": "text/x-python",
   "name": "python",
   "nbconvert_exporter": "python",
   "pygments_lexer": "ipython3",
   "version": "3.5.2"
  }
 },
 "nbformat": 4,
 "nbformat_minor": 0
}
