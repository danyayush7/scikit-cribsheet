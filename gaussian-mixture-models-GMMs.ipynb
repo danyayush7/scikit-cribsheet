{
 "cells": [
  {
   "cell_type": "markdown",
   "metadata": {},
   "source": [
    "### INTRO\n",
    "\n",
    "* enables learning of GMMs (diagonal,spherical,tied & full covariances)\n",
    "* assumes all data is generated from set of Gaussians with unknown params.\n",
    "\n",
    "[demo: density estimation](plot_gmm_pdf.ipynb)"
   ]
  },
  {
   "cell_type": "markdown",
   "metadata": {},
   "source": [
    "### GAUSSIAN MIXTURE\n",
    "\n",
    "[API](http://scikit-learn.org/stable/modules/generated/sklearn.mixture.GaussianMixture.html#sklearn.mixture.GaussianMixture) |\n",
    "[demo](plot_gmm_covariances.ipynb)\n",
    "\n",
    "* uses [expectation-maximization algorithm](https://en.wikipedia.org/wiki/Expectation%E2%80%93maximization_algorithm) for fit\n",
    "* can draw confidence ellipsoids for multivariate models\n",
    "* uses BIC criterion to efficiently select proper #components\n",
    "\n",
    "[demo: how to select components](plot_gmm_selection.ipynb)"
   ]
  },
  {
   "cell_type": "markdown",
   "metadata": {},
   "source": [
    "### GAUSSIAN MIXTURE (VARIATIONAL BAYES)\n",
    "\n",
    "[API](http://scikit-learn.org/stable/modules/generated/sklearn.mixture.BayesianGaussianMixture.html#sklearn.mixture.BayesianGaussianMixture) |\n",
    "[demo](plot_gmm.ipynb)"
   ]
  },
  {
   "cell_type": "code",
   "execution_count": null,
   "metadata": {
    "collapsed": true
   },
   "outputs": [],
   "source": []
  }
 ],
 "metadata": {
  "kernelspec": {
   "display_name": "Python [Root]",
   "language": "python",
   "name": "Python [Root]"
  },
  "language_info": {
   "codemirror_mode": {
    "name": "ipython",
    "version": 3
   },
   "file_extension": ".py",
   "mimetype": "text/x-python",
   "name": "python",
   "nbconvert_exporter": "python",
   "pygments_lexer": "ipython3",
   "version": "3.5.2"
  }
 },
 "nbformat": 4,
 "nbformat_minor": 0
}
