{
 "cells": [
  {
   "cell_type": "markdown",
   "metadata": {},
   "source": [
    "### Intro\n",
    "\n",
    "* All estimators have weaknesses (bias, variance, noise)\n",
    "* Below tools help find the weak spots\n",
    "\n",
    "* Demos:\n",
    "[underfit/overfit](plot_underfitting_overfitting.ipynb) | [validation curve](plot_validation_curve.ipynb) | [learning curve](plot_learning_curve.ipynb)\n"
   ]
  },
  {
   "cell_type": "markdown",
   "metadata": {},
   "source": [
    "### [Validation curve](http://scikit-learn.org/stable/modules/generated/sklearn.model_selection.validation_curve.html#sklearn.model_selection.validation_curve) | [demo](plot_validation_curve.ipynb)\n",
    "\n",
    "* use case: plot influence of single hyperparameter on training score, validation score\n",
    "* if train score = low  and valid score = low ==> underfit\n",
    "* if train score = high and valid score = low ==> overfit"
   ]
  },
  {
   "cell_type": "code",
   "execution_count": 1,
   "metadata": {
    "collapsed": false
   },
   "outputs": [
    {
     "name": "stdout",
     "output_type": "stream",
     "text": [
      "[[ 0.94141575  0.92944161  0.92267644]\n",
      " [ 0.94141563  0.92944153  0.92267633]\n",
      " [ 0.47253778  0.45601093  0.42887489]]\n",
      "[[ 0.90335825  0.92525985  0.94159336]\n",
      " [ 0.90338529  0.92523396  0.94159078]\n",
      " [ 0.44639995  0.39639757  0.4567671 ]]\n"
     ]
    }
   ],
   "source": [
    "# example\n",
    "\n",
    "import numpy as np\n",
    "from sklearn.model_selection import validation_curve\n",
    "from sklearn.datasets import load_iris\n",
    "from sklearn.linear_model import Ridge\n",
    "\n",
    "np.random.seed(0)\n",
    "iris = load_iris()\n",
    "X, y = iris.data, iris.target\n",
    "indices = np.arange(y.shape[0])\n",
    "np.random.shuffle(indices)\n",
    "X, y = X[indices], y[indices]\n",
    "\n",
    "train_scores, valid_scores = validation_curve(Ridge(), X, y, \"alpha\",\n",
    "                                              np.logspace(-7, 3, 3))\n",
    "\n",
    "print(train_scores)\n",
    "print(valid_scores)"
   ]
  },
  {
   "cell_type": "markdown",
   "metadata": {},
   "source": [
    "### [Learning curve](http://scikit-learn.org/stable/modules/generated/sklearn.model_selection.learning_curve.html#sklearn.model_selection.learning_curve) | [demo](plot_learning_curve.ipynb)\n",
    "\n",
    "* returns validing & training scores for an estimator with varying #training samples (How much benefit from additional training?)"
   ]
  },
  {
   "cell_type": "code",
   "execution_count": 3,
   "metadata": {
    "collapsed": false
   },
   "outputs": [
    {
     "name": "stdout",
     "output_type": "stream",
     "text": [
      "train sizes:\n",
      " [ 50  80 110]\n",
      "train scores:\n",
      " [[ 0.98        0.98        0.98        0.98        0.98      ]\n",
      " [ 0.9875      1.          0.9875      0.9875      0.9875    ]\n",
      " [ 0.98181818  1.          0.98181818  0.98181818  0.99090909]]\n",
      "valid scores:\n",
      " [[ 1.          0.93333333  1.          1.          0.96666667]\n",
      " [ 1.          0.96666667  1.          1.          0.96666667]\n",
      " [ 1.          0.96666667  1.          1.          0.96666667]]\n"
     ]
    }
   ],
   "source": [
    "# learning curve\n",
    "\n",
    "from sklearn.model_selection import learning_curve\n",
    "from sklearn.svm import SVC\n",
    "\n",
    "train_sizes, train_scores, valid_scores = learning_curve(\n",
    "    SVC(kernel='linear'), \n",
    "    X, y, \n",
    "    train_sizes=[50, 80, 110], \n",
    "    cv=5)\n",
    "\n",
    "print(\"train sizes:\\n\",train_sizes)          \n",
    "print(\"train scores:\\n\",train_scores)\n",
    "print(\"valid scores:\\n\",valid_scores)"
   ]
  },
  {
   "cell_type": "code",
   "execution_count": null,
   "metadata": {
    "collapsed": true
   },
   "outputs": [],
   "source": []
  }
 ],
 "metadata": {
  "anaconda-cloud": {},
  "kernelspec": {
   "display_name": "Python [Root]",
   "language": "python",
   "name": "Python [Root]"
  },
  "language_info": {
   "codemirror_mode": {
    "name": "ipython",
    "version": 3
   },
   "file_extension": ".py",
   "mimetype": "text/x-python",
   "name": "python",
   "nbconvert_exporter": "python",
   "pygments_lexer": "ipython3",
   "version": "3.5.2"
  }
 },
 "nbformat": 4,
 "nbformat_minor": 0
}
